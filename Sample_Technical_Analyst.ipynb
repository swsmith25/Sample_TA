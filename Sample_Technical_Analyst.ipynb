{
  "nbformat": 4,
  "nbformat_minor": 0,
  "metadata": {
    "colab": {
      "provenance": [],
      "authorship_tag": "ABX9TyMwo7qYFsbEde5/E/FuarOK",
      "include_colab_link": true
    },
    "kernelspec": {
      "name": "python3",
      "display_name": "Python 3"
    },
    "language_info": {
      "name": "python"
    }
  },
  "cells": [
    {
      "cell_type": "markdown",
      "metadata": {
        "id": "view-in-github",
        "colab_type": "text"
      },
      "source": [
        "<a href=\"https://colab.research.google.com/github/swsmith25/Sample_TA/blob/main/Sample_Technical_Analyst.ipynb\" target=\"_parent\"><img src=\"https://colab.research.google.com/assets/colab-badge.svg\" alt=\"Open In Colab\"/></a>"
      ]
    },
    {
      "cell_type": "markdown",
      "source": [
        "#MINI TA\n",
        "##Overview\n",
        "Sample Technical Analyst is a simple project for predicting prices of set stock prices. This is originally for me to practice financial ML and stock analysis.\n",
        "\\\n",
        "(Plans for a larger project will ensue.)\n",
        "\n",
        "###Companies\n",
        "The stocks I will watch are:\n",
        "- Nvidia\n",
        "- Amazon\n",
        "- Duke Energies\n",
        "- /tbd/ mystery stock\n",
        "\n",
        "For baseline comparisons, I will also run the S&P500 thrgouh the prediction to compare whether select investments will yield higher returns that a lump investment in a S&P fund.\n",
        "\n",
        "###Dependencies\n",
        "Libraries used in theis project:\n",
        "\n",
        "- Pandas\n",
        "- Numpy\n",
        "- yFinance\n",
        "- Seaborn\n",
        "- Matplot (pyplot)\n",
        "\n",
        "\n"
      ],
      "metadata": {
        "id": "Yw2ewQlDTDMy"
      }
    },
    {
      "cell_type": "code",
      "execution_count": 1,
      "metadata": {
        "id": "DGDxNHMuS9bY"
      },
      "outputs": [],
      "source": [
        "# imports\n",
        "import pandas as pd\n",
        "import numpy as np\n",
        "import matplotlib.pyplot as plt\n",
        "import seaborn as sns\n",
        "import yfinance as yf\n",
        "from pandas.plotting import scatter_matrix"
      ]
    },
    {
      "cell_type": "code",
      "source": [],
      "metadata": {
        "id": "h4Z3eHhATTSy"
      },
      "execution_count": null,
      "outputs": []
    }
  ]
}